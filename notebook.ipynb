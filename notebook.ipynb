{
 "cells": [
  {
   "cell_type": "markdown",
   "metadata": {},
   "source": [
    "# Python Tutorial for MATH336\n",
    "Hello, this is a notebook prepared as a tutorial for briefly introducing Python. Let's start with hello world. What you see below is a \"code cell\". You can write and run Python code in it. Output will appear below the code cell. Strings in Python need to be written between quotes. To run it, click the code cell and click the **Run** button above(or you can simply use the shortcut SHIFT + ENTER)"
   ]
  },
  {
   "cell_type": "code",
   "execution_count": null,
   "metadata": {},
   "outputs": [],
   "source": [
    "print(\"Hello World\")"
   ]
  },
  {
   "cell_type": "markdown",
   "metadata": {},
   "source": [
    "You can concatenate strings with + operator inside the print function."
   ]
  },
  {
   "cell_type": "code",
   "execution_count": null,
   "metadata": {},
   "outputs": [],
   "source": [
    "print(\"String1\" + \"String2\" + \"String3\")"
   ]
  },
  {
   "cell_type": "markdown",
   "metadata": {},
   "source": [
    "If you need to concatenate integers or rational numbers with strings, you can simply put , (comma) between them to concatenate them in print statements. Note that separating them with comma also adds a whitespace between them. So it's not a concatenation per se."
   ]
  },
  {
   "cell_type": "code",
   "execution_count": null,
   "metadata": {},
   "outputs": [],
   "source": [
    "print(\"String\", 25, 3.39931)"
   ]
  },
  {
   "cell_type": "markdown",
   "metadata": {},
   "source": [
    "## Variables and assignment operator\n",
    "You can create a variable by simply choosing a name for it and assigning a value to it. The operator $=$ is the assignment operator. You should not mistake it for \"equality\".\n",
    "\n",
    "\n",
    "x = 25  is not the same thing as 25 = x\n",
    "\n",
    "$=$ in Python(and in almost all other programming languages) should be read as \"make the value of the left hand side equal to the value in right hand side\""
   ]
  },
  {
   "cell_type": "code",
   "execution_count": null,
   "metadata": {},
   "outputs": [],
   "source": [
    "x = 25\n",
    "print(x)"
   ]
  },
  {
   "cell_type": "markdown",
   "metadata": {},
   "source": [
    "## Arithmetic operators\n",
    "You can easily do basic arithmetic operations in Python with the following operators:\n",
    "\n",
    "\\* (asterisk) is for multiplication\n",
    "\n",
    "\\+ is for addition\n",
    "\n",
    "\\- is for subtraction\n",
    "\n",
    "/ is for division\n",
    "\n",
    "% is for taking the mod\n",
    "\n",
    "\\*\\*(double asterisks) is for raising to a power\n",
    "\n",
    "You can use arithmetic operators between numbers, variables and functions. For complicated arithmetic statements, I suggest you use parentheses in order to make sure that the operations are executed in the right order."
   ]
  },
  {
   "cell_type": "code",
   "execution_count": null,
   "metadata": {},
   "outputs": [],
   "source": [
    "x = 25\n",
    "\n",
    "print(\"x is equal to\", x)\n",
    "\n",
    "print(\"5 times x is equal to\", 5 * x)\n",
    "\n",
    "print(\"x plus x is equal to\", x + x)\n",
    "\n",
    "print(\"x divided by 7 is equal to\", x / 7)\n",
    "\n",
    "print(\"x minus 12 is equal to\", x - 12)\n",
    "\n",
    "print(\"x mod 3 is equal to\", x % 3)\n",
    "\n",
    "print(\"x to the power 3 is equal to\", x**3)\n"
   ]
  },
  {
   "cell_type": "code",
   "execution_count": null,
   "metadata": {},
   "outputs": [],
   "source": [
    "x = 22\n",
    "y = 7\n",
    "z = x/y\n",
    "print(\"z is equal to\", z)"
   ]
  },
  {
   "cell_type": "code",
   "execution_count": null,
   "metadata": {},
   "outputs": [],
   "source": [
    "x = 26\n",
    "y = 21\n",
    "z = (((x % y) * 2) / 22)**5 + 5 \n",
    "print(z)"
   ]
  },
  {
   "cell_type": "markdown",
   "metadata": {},
   "source": [
    "## If, else statements and conditional operators\n",
    "Sometimes you want some statements to be executed \"only if\" some condition is satisfied or you might want some statements to be executed \"as long as\" some condition is satisfied. In cases like these, you need to use conditional statements. \"If, else\" statements are in the heart of this topic.\n",
    "\n",
    "Syntax for if statements are as following: \n",
    "\n",
    "    if CONDITIONAL:\n",
    "        STATEMENT1\n",
    "        STATEMENT2\n",
    "        STATEMENT3\n",
    "    else:\n",
    "        STATEMENT4\n",
    "        STATEMENT5\n",
    "\n",
    "Statements 1,2,3 will be executed if condition is satisfied and statements 4,5 will be executed if the condition is not satisfied. You might have noticed that **if, else** lines are vertically aligned differently than **statement** lines. That is not an arbitrary decision. In Python, you need to carefully indent your code. Because Python interpreter needs to know if a statement is in the **scope** of the **if,else** statement.\n",
    "\n",
    "Also, you dont have to include **else** portion. You can simply use only the **if** part.\n",
    "    \n",
    "### More on the indentation: \n",
    "Lets say that you need to execute statements 1,2 if a conditional statement is satisfied and you write it like the following:\n",
    "\n",
    "    if CONDITION:\n",
    "        STATEMENT1\n",
    "    STATEMENT2\n",
    "    \n",
    "Then only the statement 1 is in the **scope** of the **if**. Therefore, if the condition is satisfied, statement 1 will be executed. But, condition is satisfied or not, statement 2 will always get executed because it's not in the scope of the **if**. It's just another line of code to be executed.\n",
    "\n",
    "### How to write conditional statements\n",
    "Conditional statements are statements that, when calculated, take the value **True** or **False**. To write conditional statements properly, you need conditional operators. Following are the conditional operators:\n",
    "* ==(double equals) is for _equality_\n",
    "* \\> is for _greater than_\n",
    "* < is for _less than_\n",
    "* \\>= is for _greater than or equal to_\n",
    "* <= is for _less than or equal to_\n",
    "\n",
    "To combine multiple conditional statements with _and_ and _or_. You can just simply write **or** and **and** as in English language.\n",
    "\n",
    "To take the **not** of a conditional statement, simply add the word **not** in front of it. To make sure you are taking the **not** of the correct thing, you can surround them with parentheses."
   ]
  },
  {
   "cell_type": "code",
   "execution_count": null,
   "metadata": {},
   "outputs": [],
   "source": [
    "x = 27\n",
    "y = 22\n",
    "if x > y:\n",
    "    print(x, \"is greater than\", y)\n",
    "else:\n",
    "    print(x, \"is not greater than\", y)"
   ]
  },
  {
   "cell_type": "markdown",
   "metadata": {},
   "source": [
    "You can also combine arithmetic operations with conditional operations. As long as you make sure that you are comparing \"comparable\" things."
   ]
  },
  {
   "cell_type": "code",
   "execution_count": null,
   "metadata": {},
   "outputs": [],
   "source": [
    "x = -21\n",
    "y = 56\n",
    "if x + y < y / 2:\n",
    "    print(\"x plus y is less than y divided by 2\")\n",
    "else:\n",
    "    print(\"x plus y is not less than y divided by 2\")\n",
    "    "
   ]
  },
  {
   "cell_type": "code",
   "execution_count": null,
   "metadata": {},
   "outputs": [],
   "source": [
    "x = 22\n",
    "y = 33\n",
    "if y / 11 > 2 and x == 22:\n",
    "    print(\"y divided by 11 is greater than 2 and x is equal to 22\")"
   ]
  },
  {
   "cell_type": "code",
   "execution_count": null,
   "metadata": {},
   "outputs": [],
   "source": [
    "x = 54\n",
    "if not (x % 5 == 0):\n",
    "    print(\"x is not divisible by 5\")"
   ]
  },
  {
   "cell_type": "markdown",
   "metadata": {},
   "source": [
    "## Functions\n",
    "You can easily define functions in Python with the keyword **def**. Syntax is as following:\n",
    "    \n",
    "    def function(parameter1, parameter2):\n",
    "        statement1\n",
    "        statement2\n",
    " \n",
    "Your functions can calculate a value and return it, or they can simply execute some statements and not calculate a value. Depends on what you want to use the function for. Functions can take as many parameters as you want, or no parameters.\n",
    "\n",
    "If you want your function to return a value, you need to specify that value with **return** keyword **at the end of your function**.\n",
    "\n",
    "    def function(parameter1, parameter2):\n",
    "        statement1\n",
    "        statement2\n",
    "        return value"
   ]
  },
  {
   "cell_type": "code",
   "execution_count": null,
   "metadata": {},
   "outputs": [],
   "source": [
    "def addFive(a):\n",
    "    return a + 5\n",
    "\n",
    "print(\"value of addFive(3) is\", addFive(3))\n",
    "x = 7\n",
    "print(\"x is\", x, \"and addFive(x) is\", addFive(x))\n",
    "print(\"value of x is still\", x, \"after we executed addFive(x)\")\n",
    "z = 2\n",
    "print(\"value of z is\", z, \"and value of addFive(x + z) is\", addFive(x+z))"
   ]
  },
  {
   "cell_type": "code",
   "execution_count": null,
   "metadata": {},
   "outputs": [],
   "source": [
    "def printHelloWorld():\n",
    "    print(\"Hello World\")\n",
    "\n",
    "printHelloWorld()"
   ]
  },
  {
   "cell_type": "markdown",
   "metadata": {},
   "source": [
    "## Loops\n",
    "There are many cases where you want some statements to be executed over and over. In these cases you use loops. There are different ways to create a loop. Lets look at **for** loops with an example:"
   ]
  },
  {
   "cell_type": "code",
   "execution_count": null,
   "metadata": {},
   "outputs": [],
   "source": [
    "for i in range(0, 5):\n",
    "    print(i)"
   ]
  },
  {
   "cell_type": "markdown",
   "metadata": {},
   "source": [
    "What happened above is that, the variable i took integer values in the interval $[0,5)$ one by one and **for** loop has executed the statements in it for each iteration. We can easily use this to create a function which calculates the sum of numbers from 1 to n:"
   ]
  },
  {
   "cell_type": "code",
   "execution_count": null,
   "metadata": {},
   "outputs": [],
   "source": [
    "def sumOnetoN(n):\n",
    "    sum = 0\n",
    "    for i in range(1, n+1):\n",
    "        sum = sum + i\n",
    "    return sum\n",
    "\n",
    "print(sumOnetoN(10))"
   ]
  },
  {
   "cell_type": "markdown",
   "metadata": {},
   "source": [
    "Note that we selected the range as (1, n+1) because Python interprets this range as integer values in the interval $[1,n+1)$\n",
    "\n",
    "There's also another way to construct loops, namely **while** loops. Their syntax is as following:\n",
    "    \n",
    "    while CONDITION:\n",
    "        STATEMENT1\n",
    "        STATEMENT2\n",
    "        STATEMENT3\n",
    "What this does can be read as \"execute the statements below as long as the condition is satisfied\". Notice that the way it is constructed is same as the **if** statements. There's an important point though. If you do not carefully construct your conditions, your while loop can run forever and can cause errors."
   ]
  },
  {
   "cell_type": "code",
   "execution_count": null,
   "metadata": {},
   "outputs": [],
   "source": [
    "x = 20\n",
    "while x < 25:\n",
    "    print(\"value of x is is\", x,\"which is less than 25. I am adding 1 to it.\")\n",
    "    x = x + 1"
   ]
  },
  {
   "cell_type": "markdown",
   "metadata": {},
   "source": [
    "## Implementing Newton's Method using Python\n",
    "At this point, you know Python that is needed to implement Newton's Method"
   ]
  },
  {
   "cell_type": "code",
   "execution_count": null,
   "metadata": {},
   "outputs": [],
   "source": []
  }
 ],
 "metadata": {
  "kernelspec": {
   "display_name": "Python 3",
   "language": "python",
   "name": "python3"
  },
  "language_info": {
   "codemirror_mode": {
    "name": "ipython",
    "version": 3
   },
   "file_extension": ".py",
   "mimetype": "text/x-python",
   "name": "python",
   "nbconvert_exporter": "python",
   "pygments_lexer": "ipython3",
   "version": "3.7.3"
  }
 },
 "nbformat": 4,
 "nbformat_minor": 2
}
