{
 "cells": [
  {
   "cell_type": "markdown",
   "metadata": {},
   "source": [
    "# Python Tutorial for MATH336\n",
    "Hello, this is a notebook prepared as a tutorial for briefly introducing Python. Let's start with hello world. What you see below is a \"code cell\". You can write and run Python code in it. Output will appear below the code cell. Strings in Python need to be written between quotes. To run it, click the code cell and click the **Run** button above(or you can simply use the shortcut SHIFT + ENTER)"
   ]
  },
  {
   "cell_type": "code",
   "execution_count": null,
   "metadata": {},
   "outputs": [],
   "source": [
    "print(\"Hello World\")"
   ]
  },
  {
   "cell_type": "markdown",
   "metadata": {},
   "source": [
    "You can concatenate strings with + operator inside the print function."
   ]
  },
  {
   "cell_type": "code",
   "execution_count": null,
   "metadata": {},
   "outputs": [],
   "source": [
    "print(\"String1\" + \"String2\" + \"String3\")"
   ]
  },
  {
   "cell_type": "markdown",
   "metadata": {},
   "source": [
    "If you need to concatenate integers or rational numbers with strings, you can simply put , (comma) between them to concatenate them in print statements. Note that separating them with comma also adds a whitespace between them. So it's not a concatenation per se."
   ]
  },
  {
   "cell_type": "code",
   "execution_count": null,
   "metadata": {},
   "outputs": [],
   "source": [
    "print(\"String\", 25, 3.39931)"
   ]
  },
  {
   "cell_type": "markdown",
   "metadata": {},
   "source": [
    "## Variables and assignment operator\n",
    "You can create a variable by simply choosing a name for it and assigning a value to it. The operator $=$ is the assignment operator. You should not mistake it for \"equality\".\n",
    "\n",
    "\n",
    "x = 25  is not the same thing as 25 = x\n",
    "\n",
    "$=$ in Python(and in almost all other programming languages) should be read as \"make the value of the left hand side equal to the value in right hand side\""
   ]
  },
  {
   "cell_type": "code",
   "execution_count": null,
   "metadata": {},
   "outputs": [],
   "source": [
    "x = 25\n",
    "print(x)"
   ]
  },
  {
   "cell_type": "markdown",
   "metadata": {},
   "source": [
    "## Lists\n",
    "List is a type of variable. As the name suggest, list variables hold a list of values that can be accessed through indices. Lists can also hold other lists as values. Indices start from 0. You need to write the index between brackets \\[ \\]\n"
   ]
  },
  {
   "cell_type": "code",
   "execution_count": null,
   "metadata": {},
   "outputs": [],
   "source": [
    "valueList = [1,2,3,4,5]\n",
    "print(valueList[0])\n",
    "print(valueList[4])"
   ]
  },
  {
   "cell_type": "markdown",
   "metadata": {},
   "source": [
    "## Arithmetic operators\n",
    "You can easily do basic arithmetic operations in Python with the following operators:\n",
    "\n",
    "\\* (asterisk) is for multiplication\n",
    "\n",
    "\\+ is for addition\n",
    "\n",
    "\\- is for subtraction\n",
    "\n",
    "/ is for division\n",
    "\n",
    "% is for taking the mod\n",
    "\n",
    "\\*\\*(double asterisks) is for raising to a power\n",
    "\n",
    "You can use arithmetic operators between numbers, variables and functions. For complicated arithmetic statements, I suggest you use parentheses in order to make sure that the operations are executed in the right order."
   ]
  },
  {
   "cell_type": "code",
   "execution_count": null,
   "metadata": {},
   "outputs": [],
   "source": [
    "x = 25\n",
    "\n",
    "print(\"x is equal to\", x)\n",
    "\n",
    "print(\"5 times x is equal to\", 5 * x)\n",
    "\n",
    "print(\"x plus x is equal to\", x + x)\n",
    "\n",
    "print(\"x divided by 7 is equal to\", x / 7)\n",
    "\n",
    "print(\"x minus 12 is equal to\", x - 12)\n",
    "\n",
    "print(\"x mod 3 is equal to\", x % 3)\n",
    "\n",
    "print(\"x to the power 3 is equal to\", x**3)\n"
   ]
  },
  {
   "cell_type": "code",
   "execution_count": null,
   "metadata": {},
   "outputs": [],
   "source": [
    "x = 22\n",
    "y = 7\n",
    "z = x/y\n",
    "print(\"z is equal to\", z)"
   ]
  },
  {
   "cell_type": "code",
   "execution_count": null,
   "metadata": {},
   "outputs": [],
   "source": [
    "x = 26\n",
    "y = 21\n",
    "z = (((x % y) * 2) / 22)**5 + 5 \n",
    "print(z)"
   ]
  },
  {
   "cell_type": "markdown",
   "metadata": {},
   "source": [
    "## If, else statements and conditional operators\n",
    "Sometimes you want some statements to be executed \"only if\" some condition is satisfied or you might want some statements to be executed \"as long as\" some condition is satisfied. In cases like these, you need to use conditional statements. \"If, else\" statements are in the heart of this topic.\n",
    "\n",
    "Syntax for if statements are as following: \n",
    "\n",
    "    if CONDITIONAL:\n",
    "        STATEMENT1\n",
    "        STATEMENT2\n",
    "        STATEMENT3\n",
    "    else:\n",
    "        STATEMENT4\n",
    "        STATEMENT5\n",
    "\n",
    "Statements 1,2,3 will be executed if condition is satisfied and statements 4,5 will be executed if the condition is not satisfied. You might have noticed that **if, else** lines are vertically aligned differently than **statement** lines. That is not an arbitrary decision. In Python, you need to carefully indent your code. Because Python interpreter needs to know if a statement is in the **scope** of the **if,else** statement.\n",
    "\n",
    "Also, you dont have to include **else** portion. You can simply use only the **if** part.\n",
    "    \n",
    "### More on the indentation: \n",
    "Lets say that you need to execute statements 1,2 if a conditional statement is satisfied and you write it like the following:\n",
    "\n",
    "    if CONDITION:\n",
    "        STATEMENT1\n",
    "    STATEMENT2\n",
    "    \n",
    "Then only the statement 1 is in the **scope** of the **if**. Therefore, if the condition is satisfied, statement 1 will be executed. But, condition is satisfied or not, statement 2 will always get executed because it's not in the scope of the **if**. It's just another line of code to be executed.\n",
    "\n",
    "### How to write conditional statements\n",
    "Conditional statements are statements that, when calculated, take the value **True** or **False**. To write conditional statements properly, you need conditional operators. Following are the conditional operators:\n",
    "* ==(double equals) is for _equality_\n",
    "* \\> is for _greater than_\n",
    "* < is for _less than_\n",
    "* \\>= is for _greater than or equal to_\n",
    "* <= is for _less than or equal to_\n",
    "\n",
    "To combine multiple conditional statements with _and_ and _or_. You can just simply write **or** and **and** as in English language.\n",
    "\n",
    "To take the **not** of a conditional statement, simply add the word **not** in front of it. To make sure you are taking the **not** of the correct thing, you can surround them with parentheses."
   ]
  },
  {
   "cell_type": "code",
   "execution_count": null,
   "metadata": {},
   "outputs": [],
   "source": [
    "x = 27\n",
    "y = 22\n",
    "if x > y:\n",
    "    print(x, \"is greater than\", y)\n",
    "else:\n",
    "    print(x, \"is not greater than\", y)"
   ]
  },
  {
   "cell_type": "markdown",
   "metadata": {},
   "source": [
    "You can also combine arithmetic operations with conditional operations. As long as you make sure that you are comparing \"comparable\" things."
   ]
  },
  {
   "cell_type": "code",
   "execution_count": null,
   "metadata": {},
   "outputs": [],
   "source": [
    "x = -21\n",
    "y = 56\n",
    "if x + y < y / 2:\n",
    "    print(\"x plus y is less than y divided by 2\")\n",
    "else:\n",
    "    print(\"x plus y is not less than y divided by 2\")\n",
    "    "
   ]
  },
  {
   "cell_type": "code",
   "execution_count": null,
   "metadata": {},
   "outputs": [],
   "source": [
    "x = 22\n",
    "y = 33\n",
    "if y / 11 > 2 and x == 22:\n",
    "    print(\"y divided by 11 is greater than 2 and x is equal to 22\")"
   ]
  },
  {
   "cell_type": "code",
   "execution_count": null,
   "metadata": {},
   "outputs": [],
   "source": [
    "x = 54\n",
    "if not (x % 5 == 0):\n",
    "    print(\"x is not divisible by 5\")"
   ]
  },
  {
   "cell_type": "markdown",
   "metadata": {},
   "source": [
    "## Functions\n",
    "You can easily define functions in Python with the keyword **def**. Syntax is as following:\n",
    "    \n",
    "    def function(parameter1, parameter2):\n",
    "        statement1\n",
    "        statement2\n",
    " \n",
    "Your functions can calculate a value and return it, or they can simply execute some statements and not calculate a value. Depends on what you want to use the function for. Functions can take as many parameters as you want, or no parameters.\n",
    "\n",
    "If you want your function to return a value, you need to specify that value with **return** keyword **at the end of your function**.\n",
    "\n",
    "    def function(parameter1, parameter2):\n",
    "        statement1\n",
    "        statement2\n",
    "        return value"
   ]
  },
  {
   "cell_type": "code",
   "execution_count": null,
   "metadata": {},
   "outputs": [],
   "source": [
    "def addFive(a):\n",
    "    return a + 5\n",
    "\n",
    "print(\"value of addFive(3) is\", addFive(3))\n",
    "x = 7\n",
    "print(\"x is\", x, \"and addFive(x) is\", addFive(x))\n",
    "print(\"value of x is still\", x, \"after we executed addFive(x)\")\n",
    "z = 2\n",
    "print(\"value of z is\", z, \"and value of addFive(x + z) is\", addFive(x+z))"
   ]
  },
  {
   "cell_type": "code",
   "execution_count": null,
   "metadata": {},
   "outputs": [],
   "source": [
    "def printHelloWorld():\n",
    "    print(\"Hello World\")\n",
    "\n",
    "printHelloWorld()"
   ]
  },
  {
   "cell_type": "markdown",
   "metadata": {},
   "source": [
    "## Loops\n",
    "There are many cases where you want some statements to be executed over and over. In these cases you use loops. There are different ways to create a loop. Lets look at **for** loops with an example:"
   ]
  },
  {
   "cell_type": "code",
   "execution_count": null,
   "metadata": {},
   "outputs": [],
   "source": [
    "for i in range(0, 5):\n",
    "    print(i)"
   ]
  },
  {
   "cell_type": "markdown",
   "metadata": {},
   "source": [
    "What happened above is that, the variable i took integer values in the interval $[0,5)$ one by one and **for** loop has executed the statements in it for each iteration. We can easily use this to create a function which calculates the sum of numbers from 1 to n:"
   ]
  },
  {
   "cell_type": "code",
   "execution_count": null,
   "metadata": {},
   "outputs": [],
   "source": [
    "def sumOnetoN(n):\n",
    "    sum = 0\n",
    "    for i in range(1, n+1):\n",
    "        sum = sum + i\n",
    "    return sum\n",
    "\n",
    "print(sumOnetoN(10))"
   ]
  },
  {
   "cell_type": "markdown",
   "metadata": {},
   "source": [
    "Note that we selected the range as (1, n+1) because Python interprets this range as integer values in the interval $[1,n+1)$\n",
    "\n",
    "There's also another way to construct loops, namely **while** loops. Their syntax is as following:\n",
    "    \n",
    "    while CONDITION:\n",
    "        STATEMENT1\n",
    "        STATEMENT2\n",
    "        STATEMENT3\n",
    "What this does can be read as \"execute the statements below as long as the condition is satisfied\". Notice that the way it is constructed is same as the **if** statements. There's an important point though. If you do not carefully construct your conditions, your while loop can run forever and can cause errors."
   ]
  },
  {
   "cell_type": "code",
   "execution_count": null,
   "metadata": {},
   "outputs": [],
   "source": [
    "x = 20\n",
    "while x < 25:\n",
    "    print(\"value of x is is\", x,\"which is less than 25. I am adding 1 to it.\")\n",
    "    x = x + 1"
   ]
  },
  {
   "cell_type": "markdown",
   "metadata": {},
   "source": [
    "## Implementing Newton's Method using Python\n",
    "At this point, you know Python that is needed to implement Newton's Method. Let's approximate a root of $f(x) = x^2 - 43$\n",
    "\n",
    "**PS**: Following part of the tutorial will include multiple code cells. Even if a code cell does not print any results, you still need to run them in order for calculation to be correct. Different code cells are not independent of each other. The computer remembers(variables, values of variables, functions etc.) what you did in previous cells that you have executed.\n",
    "\n",
    "Let's implement our function and its derivative as functions:"
   ]
  },
  {
   "cell_type": "code",
   "execution_count": null,
   "metadata": {},
   "outputs": [],
   "source": [
    "def f(x):\n",
    "    return x**2 - 43\n",
    "def fPrime(x):\n",
    "    return 2*x"
   ]
  },
  {
   "cell_type": "markdown",
   "metadata": {},
   "source": [
    "We need to start with an initial value for our iteration. We can create a list such as $x = [x_0, x_1, ....]$. Let the initial value of the iteration be 10. Then we can create a list consisting of only the value 10. Also let's select $\\varepsilon = 10^{-5}$ as a stopping condition. \n",
    "\n",
    "Note that if you select an epsilon too small, the computer will not have enough precision to hold that many decimal places, and your results can be incorrect."
   ]
  },
  {
   "cell_type": "code",
   "execution_count": null,
   "metadata": {},
   "outputs": [],
   "source": [
    "x = [777]\n",
    "epsilon = 10**(-15)"
   ]
  },
  {
   "cell_type": "markdown",
   "metadata": {},
   "source": [
    "Now, we should use a loop for simulating iterations of Newton's Method. A while loop is suitable for this task because after each iteration, we want to check if we have passed the error threshold. At each iteration, we need to calculate\n",
    "\n",
    "$x_{i+1} = x_i - \\frac{f(x_i)}{f'(x_i)} $\n",
    "\n",
    "Also, while iterating we need to be able to access most recent element of a list and also add an element to the end of the list. \n",
    "\n",
    "To access last element of a list, we can use (-1) as an index. This a feature of Python. Negative indices access the list in reverse order. Therefore, the last element of our list x is always **x[-1]**\n",
    "\n",
    "To add an element to the end of the list we can use append function of lists. If name of your list is $x$ you should use it as **x.append(newValue)**"
   ]
  },
  {
   "cell_type": "code",
   "execution_count": null,
   "metadata": {},
   "outputs": [],
   "source": [
    "while f(x[-1]) > epsilon:\n",
    "    newX = x[-1] - f(x[-1])/fPrime(x[-1])\n",
    "    x.append(newX)"
   ]
  },
  {
   "cell_type": "markdown",
   "metadata": {},
   "source": [
    "3 lines in above code cell can be explained as follows:\n",
    "\n",
    "Line 1: As a loop condition, we check if $f(x_i) - 0 > error$. Since the last element of our list is accessed through x[-1], we write f(x[-1]).\n",
    "\n",
    "Line 2: We calculate $x_{i+1}$ using $x_i$, $f$ and $f'$\n",
    "\n",
    "Line 3: We add newly calculated value to the end of our list.\n",
    "\n",
    "Now if we print our list x, we will see the values found in each iteration. Last of them should be epsilon close to the root of f. \n",
    "\n",
    "We also print the square root of 43 to check if our answer is correct. We can raise 43 to the power 1/2 for taking square roots."
   ]
  },
  {
   "cell_type": "code",
   "execution_count": null,
   "metadata": {},
   "outputs": [],
   "source": [
    "print(\"Results of the iteration:\",x)\n",
    "print(\"Square root of 43 is\", 43**(1/2))"
   ]
  },
  {
   "cell_type": "markdown",
   "metadata": {},
   "source": [
    "That's it. We have implemented Newton's Method for approximating the square root of 43 with 9 lines of python code. \n",
    "\n",
    "We can also visualize our results using a Python library called matplotlib. I will not go into details of how next code cell works. We create an object called **plt** and plot our list **x** using its plot() function."
   ]
  },
  {
   "cell_type": "code",
   "execution_count": null,
   "metadata": {},
   "outputs": [],
   "source": [
    "import matplotlib.pyplot as plt\n",
    "plt.plot(x)"
   ]
  },
  {
   "cell_type": "code",
   "execution_count": null,
   "metadata": {},
   "outputs": [],
   "source": []
  }
 ],
 "metadata": {
  "kernelspec": {
   "display_name": "Python 3",
   "language": "python",
   "name": "python3"
  },
  "language_info": {
   "codemirror_mode": {
    "name": "ipython",
    "version": 3
   },
   "file_extension": ".py",
   "mimetype": "text/x-python",
   "name": "python",
   "nbconvert_exporter": "python",
   "pygments_lexer": "ipython3",
   "version": "3.7.3"
  }
 },
 "nbformat": 4,
 "nbformat_minor": 2
}
